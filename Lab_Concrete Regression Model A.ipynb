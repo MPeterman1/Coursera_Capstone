{
    "cells": [
        {
            "cell_type": "markdown",
            "metadata": {
                "button": false,
                "new_sheet": false,
                "run_control": {
                    "read_only": false
                }
            },
            "source": "## A. Develop a Baseline Neural Network Model"
        },
        {
            "cell_type": "markdown",
            "metadata": {
                "button": false,
                "new_sheet": false,
                "run_control": {
                    "read_only": false
                }
            },
            "source": "##### Import functions required and the Keras objects library"
        },
        {
            "cell_type": "code",
            "execution_count": 2,
            "metadata": {
                "button": false,
                "new_sheet": false,
                "run_control": {
                    "read_only": false
                }
            },
            "outputs": [
                {
                    "name": "stdout",
                    "output_type": "stream",
                    "text": "Ready, Set, Go!!!!!!!\n"
                }
            ],
            "source": "import pandas as pd\nimport numpy as np\n\nimport keras\nfrom keras.models import Sequential\nfrom keras.layers import Dense\nprint (\"Ready, Set, Go!!!!!!!\")"
        },
        {
            "cell_type": "markdown",
            "metadata": {
                "button": false,
                "new_sheet": false,
                "run_control": {
                    "read_only": false
                }
            },
            "source": " ### Build the neural network"
        },
        {
            "cell_type": "markdown",
            "metadata": {},
            "source": "##### PreProcess Data"
        },
        {
            "cell_type": "code",
            "execution_count": 3,
            "metadata": {
                "button": false,
                "new_sheet": false,
                "run_control": {
                    "read_only": false
                },
                "scrolled": true
            },
            "outputs": [
                {
                    "data": {
                        "text/html": "<div>\n<style scoped>\n    .dataframe tbody tr th:only-of-type {\n        vertical-align: middle;\n    }\n\n    .dataframe tbody tr th {\n        vertical-align: top;\n    }\n\n    .dataframe thead th {\n        text-align: right;\n    }\n</style>\n<table border=\"1\" class=\"dataframe\">\n  <thead>\n    <tr style=\"text-align: right;\">\n      <th></th>\n      <th>Cement</th>\n      <th>Blast Furnace Slag</th>\n      <th>Fly Ash</th>\n      <th>Water</th>\n      <th>Superplasticizer</th>\n      <th>Coarse Aggregate</th>\n      <th>Fine Aggregate</th>\n      <th>Age</th>\n      <th>Strength</th>\n    </tr>\n  </thead>\n  <tbody>\n    <tr>\n      <th>1020</th>\n      <td>288.4</td>\n      <td>121.0</td>\n      <td>0.0</td>\n      <td>177.4</td>\n      <td>7.0</td>\n      <td>907.9</td>\n      <td>829.5</td>\n      <td>28</td>\n      <td>42.14</td>\n    </tr>\n    <tr>\n      <th>1021</th>\n      <td>298.2</td>\n      <td>0.0</td>\n      <td>107.0</td>\n      <td>209.7</td>\n      <td>11.1</td>\n      <td>879.6</td>\n      <td>744.2</td>\n      <td>28</td>\n      <td>31.88</td>\n    </tr>\n    <tr>\n      <th>1022</th>\n      <td>264.5</td>\n      <td>111.0</td>\n      <td>86.5</td>\n      <td>195.5</td>\n      <td>5.9</td>\n      <td>832.6</td>\n      <td>790.4</td>\n      <td>28</td>\n      <td>41.54</td>\n    </tr>\n    <tr>\n      <th>1023</th>\n      <td>159.8</td>\n      <td>250.0</td>\n      <td>0.0</td>\n      <td>168.4</td>\n      <td>12.2</td>\n      <td>1049.3</td>\n      <td>688.2</td>\n      <td>28</td>\n      <td>39.46</td>\n    </tr>\n    <tr>\n      <th>1024</th>\n      <td>166.0</td>\n      <td>259.7</td>\n      <td>0.0</td>\n      <td>183.2</td>\n      <td>12.7</td>\n      <td>858.8</td>\n      <td>826.8</td>\n      <td>28</td>\n      <td>37.92</td>\n    </tr>\n    <tr>\n      <th>1025</th>\n      <td>276.4</td>\n      <td>116.0</td>\n      <td>90.3</td>\n      <td>179.6</td>\n      <td>8.9</td>\n      <td>870.1</td>\n      <td>768.3</td>\n      <td>28</td>\n      <td>44.28</td>\n    </tr>\n    <tr>\n      <th>1026</th>\n      <td>322.2</td>\n      <td>0.0</td>\n      <td>115.6</td>\n      <td>196.0</td>\n      <td>10.4</td>\n      <td>817.9</td>\n      <td>813.4</td>\n      <td>28</td>\n      <td>31.18</td>\n    </tr>\n    <tr>\n      <th>1027</th>\n      <td>148.5</td>\n      <td>139.4</td>\n      <td>108.6</td>\n      <td>192.7</td>\n      <td>6.1</td>\n      <td>892.4</td>\n      <td>780.0</td>\n      <td>28</td>\n      <td>23.70</td>\n    </tr>\n    <tr>\n      <th>1028</th>\n      <td>159.1</td>\n      <td>186.7</td>\n      <td>0.0</td>\n      <td>175.6</td>\n      <td>11.3</td>\n      <td>989.6</td>\n      <td>788.9</td>\n      <td>28</td>\n      <td>32.77</td>\n    </tr>\n    <tr>\n      <th>1029</th>\n      <td>260.9</td>\n      <td>100.5</td>\n      <td>78.3</td>\n      <td>200.6</td>\n      <td>8.6</td>\n      <td>864.5</td>\n      <td>761.5</td>\n      <td>28</td>\n      <td>32.40</td>\n    </tr>\n  </tbody>\n</table>\n</div>",
                        "text/plain": "      Cement  Blast Furnace Slag  Fly Ash  Water  Superplasticizer  \\\n1020   288.4               121.0      0.0  177.4               7.0   \n1021   298.2                 0.0    107.0  209.7              11.1   \n1022   264.5               111.0     86.5  195.5               5.9   \n1023   159.8               250.0      0.0  168.4              12.2   \n1024   166.0               259.7      0.0  183.2              12.7   \n1025   276.4               116.0     90.3  179.6               8.9   \n1026   322.2                 0.0    115.6  196.0              10.4   \n1027   148.5               139.4    108.6  192.7               6.1   \n1028   159.1               186.7      0.0  175.6              11.3   \n1029   260.9               100.5     78.3  200.6               8.6   \n\n      Coarse Aggregate  Fine Aggregate  Age  Strength  \n1020             907.9           829.5   28     42.14  \n1021             879.6           744.2   28     31.88  \n1022             832.6           790.4   28     41.54  \n1023            1049.3           688.2   28     39.46  \n1024             858.8           826.8   28     37.92  \n1025             870.1           768.3   28     44.28  \n1026             817.9           813.4   28     31.18  \n1027             892.4           780.0   28     23.70  \n1028             989.6           788.9   28     32.77  \n1029             864.5           761.5   28     32.40  "
                    },
                    "execution_count": 3,
                    "metadata": {},
                    "output_type": "execute_result"
                }
            ],
            "source": "concrete_data = pd.read_csv('https://cocl.us/concrete_data')\nconcrete_data.tail(10)"
        },
        {
            "cell_type": "code",
            "execution_count": 4,
            "metadata": {},
            "outputs": [
                {
                    "data": {
                        "text/plain": "Cement                0\nBlast Furnace Slag    0\nFly Ash               0\nWater                 0\nSuperplasticizer      0\nCoarse Aggregate      0\nFine Aggregate        0\nAge                   0\nStrength              0\ndtype: int64"
                    },
                    "execution_count": 4,
                    "metadata": {},
                    "output_type": "execute_result"
                }
            ],
            "source": "concrete_data.isnull().sum() #Check for null values"
        },
        {
            "cell_type": "markdown",
            "metadata": {
                "button": false,
                "new_sheet": false,
                "run_control": {
                    "read_only": false
                }
            },
            "source": "##### Define predictors and target"
        },
        {
            "cell_type": "code",
            "execution_count": 5,
            "metadata": {
                "button": false,
                "new_sheet": false,
                "run_control": {
                    "read_only": false
                }
            },
            "outputs": [],
            "source": "concrete_data_columns = concrete_data.columns\n#SET TARGET VARIABLE - STRENGTH\ntarget = concrete_data['Strength']\n#SET PREDICTORS TO BE ALL OTHER COLUMNS\npredictors = concrete_data[concrete_data_columns[concrete_data_columns != 'Strength']]"
        },
        {
            "cell_type": "code",
            "execution_count": 6,
            "metadata": {
                "button": false,
                "new_sheet": false,
                "run_control": {
                    "read_only": false
                }
            },
            "outputs": [
                {
                    "data": {
                        "text/html": "<div>\n<style scoped>\n    .dataframe tbody tr th:only-of-type {\n        vertical-align: middle;\n    }\n\n    .dataframe tbody tr th {\n        vertical-align: top;\n    }\n\n    .dataframe thead th {\n        text-align: right;\n    }\n</style>\n<table border=\"1\" class=\"dataframe\">\n  <thead>\n    <tr style=\"text-align: right;\">\n      <th></th>\n      <th>Cement</th>\n      <th>Blast Furnace Slag</th>\n      <th>Fly Ash</th>\n      <th>Water</th>\n      <th>Superplasticizer</th>\n      <th>Coarse Aggregate</th>\n      <th>Fine Aggregate</th>\n      <th>Age</th>\n    </tr>\n  </thead>\n  <tbody>\n    <tr>\n      <th>0</th>\n      <td>540.0</td>\n      <td>0.0</td>\n      <td>0.0</td>\n      <td>162.0</td>\n      <td>2.5</td>\n      <td>1040.0</td>\n      <td>676.0</td>\n      <td>28</td>\n    </tr>\n    <tr>\n      <th>1</th>\n      <td>540.0</td>\n      <td>0.0</td>\n      <td>0.0</td>\n      <td>162.0</td>\n      <td>2.5</td>\n      <td>1055.0</td>\n      <td>676.0</td>\n      <td>28</td>\n    </tr>\n    <tr>\n      <th>2</th>\n      <td>332.5</td>\n      <td>142.5</td>\n      <td>0.0</td>\n      <td>228.0</td>\n      <td>0.0</td>\n      <td>932.0</td>\n      <td>594.0</td>\n      <td>270</td>\n    </tr>\n    <tr>\n      <th>3</th>\n      <td>332.5</td>\n      <td>142.5</td>\n      <td>0.0</td>\n      <td>228.0</td>\n      <td>0.0</td>\n      <td>932.0</td>\n      <td>594.0</td>\n      <td>365</td>\n    </tr>\n    <tr>\n      <th>4</th>\n      <td>198.6</td>\n      <td>132.4</td>\n      <td>0.0</td>\n      <td>192.0</td>\n      <td>0.0</td>\n      <td>978.4</td>\n      <td>825.5</td>\n      <td>360</td>\n    </tr>\n  </tbody>\n</table>\n</div>",
                        "text/plain": "   Cement  Blast Furnace Slag  Fly Ash  Water  Superplasticizer  \\\n0   540.0                 0.0      0.0  162.0               2.5   \n1   540.0                 0.0      0.0  162.0               2.5   \n2   332.5               142.5      0.0  228.0               0.0   \n3   332.5               142.5      0.0  228.0               0.0   \n4   198.6               132.4      0.0  192.0               0.0   \n\n   Coarse Aggregate  Fine Aggregate  Age  \n0            1040.0           676.0   28  \n1            1055.0           676.0   28  \n2             932.0           594.0  270  \n3             932.0           594.0  365  \n4             978.4           825.5  360  "
                    },
                    "execution_count": 6,
                    "metadata": {},
                    "output_type": "execute_result"
                }
            ],
            "source": "cols = predictors.shape[1]\npredictors.head()"
        },
        {
            "cell_type": "code",
            "execution_count": 8,
            "metadata": {
                "button": false,
                "new_sheet": false,
                "run_control": {
                    "read_only": false
                }
            },
            "outputs": [
                {
                    "data": {
                        "text/plain": "0    79.99\n1    61.89\n2    40.27\n3    41.05\n4    44.30\nName: Strength, dtype: float64"
                    },
                    "execution_count": 8,
                    "metadata": {},
                    "output_type": "execute_result"
                }
            ],
            "source": "#STRENGTH COLUMN\ntarget.head()"
        },
        {
            "cell_type": "code",
            "execution_count": 9,
            "metadata": {},
            "outputs": [
                {
                    "name": "stdout",
                    "output_type": "stream",
                    "text": "\nNumber of samples/rows : 1030\n"
                }
            ],
            "source": "shape = concrete_data.shape\nprint('\\nNumber of samples/rows :', shape[0])"
        },
        {
            "cell_type": "code",
            "execution_count": null,
            "metadata": {},
            "outputs": [],
            "source": "#SET VARIABLE VARIABLES FOR THE ASSIGNMENTS\nnodes = 10\noutput = 1\nepochs = 50\nb = 5"
        },
        {
            "cell_type": "code",
            "execution_count": null,
            "metadata": {},
            "outputs": [],
            "source": "#SET FIXED VALUE FOR REPRODUCITY\nimport numpy\nseed = 7\nnumpy.random.seed(seed)"
        },
        {
            "cell_type": "markdown",
            "metadata": {
                "button": false,
                "new_sheet": false,
                "run_control": {
                    "read_only": false
                }
            },
            "source": "### A1. Define and compile baseline regression model"
        },
        {
            "cell_type": "code",
            "execution_count": null,
            "metadata": {
                "button": false,
                "new_sheet": false,
                "run_control": {
                    "read_only": false
                }
            },
            "outputs": [],
            "source": "# define base regression model\ndef regression_model(nodes):\n    # create model\n    model = Sequential()\n    model.add(Dense(nodes, activation='relu', input_shape=(cols,))) #1 hidden layer , 10 nodes, relu activation\n    model.add(Dense(output)) #Output Layer\n        # compile model\n    model.compile(optimizer='adam', loss='mean_squared_error')\n    return model"
        },
        {
            "cell_type": "code",
            "execution_count": null,
            "metadata": {},
            "outputs": [],
            "source": "# build the model\nmodel = regression_model(nodes)"
        },
        {
            "cell_type": "markdown",
            "metadata": {},
            "source": "### A2. Split data for training and testing"
        },
        {
            "cell_type": "code",
            "execution_count": null,
            "metadata": {},
            "outputs": [],
            "source": "X = predictors\ny = target\nfrom sklearn.model_selection import train_test_split\nX_train, X_test, y_train, y_test = train_test_split(X, y, test_size=0.33, random_state=seed)\ntrain_test_split(y, shuffle=False)\n#X_train.head(3) #check sample\n#y_train.head(3) #check sample"
        },
        {
            "cell_type": "code",
            "execution_count": null,
            "metadata": {},
            "outputs": [],
            "source": ""
        },
        {
            "cell_type": "markdown",
            "metadata": {
                "button": false,
                "new_sheet": false,
                "run_control": {
                    "read_only": false
                }
            },
            "source": "### A3. Train and test the network"
        },
        {
            "cell_type": "code",
            "execution_count": 42,
            "metadata": {},
            "outputs": [
                {
                    "name": "stdout",
                    "output_type": "stream",
                    "text": "Train on 721 samples, validate on 309 samples\nEpoch 1/50\n721/721 [==============================] - 0s 127us/step - loss: 209.7356 - val_loss: 189.6285\nEpoch 2/50\n721/721 [==============================] - 0s 155us/step - loss: 209.0119 - val_loss: 188.1951\nEpoch 3/50\n721/721 [==============================] - 0s 139us/step - loss: 208.2530 - val_loss: 186.7429\nEpoch 4/50\n721/721 [==============================] - 0s 161us/step - loss: 207.5088 - val_loss: 185.3786\nEpoch 5/50\n721/721 [==============================] - 0s 357us/step - loss: 206.7741 - val_loss: 184.0910\nEpoch 6/50\n721/721 [==============================] - 1s 2ms/step - loss: 206.0647 - val_loss: 182.8120\nEpoch 7/50\n721/721 [==============================] - 2s 2ms/step - loss: 205.3670 - val_loss: 181.5390\nEpoch 8/50\n721/721 [==============================] - 1s 2ms/step - loss: 204.6742 - val_loss: 180.2871\nEpoch 9/50\n721/721 [==============================] - 1s 1ms/step - loss: 203.9873 - val_loss: 179.0591\nEpoch 10/50\n721/721 [==============================] - 1s 1ms/step - loss: 203.3141 - val_loss: 177.8593\nEpoch 11/50\n721/721 [==============================] - 2s 3ms/step - loss: 202.6495 - val_loss: 176.6914\nEpoch 12/50\n721/721 [==============================] - 1s 1ms/step - loss: 201.9927 - val_loss: 175.5469\nEpoch 13/50\n721/721 [==============================] - 1s 1ms/step - loss: 201.3393 - val_loss: 174.3562\nEpoch 14/50\n721/721 [==============================] - 1s 818us/step - loss: 200.6977 - val_loss: 173.1279\nEpoch 15/50\n721/721 [==============================] - 0s 132us/step - loss: 200.0516 - val_loss: 171.8712\nEpoch 16/50\n721/721 [==============================] - 0s 144us/step - loss: 199.3931 - val_loss: 170.5685\nEpoch 17/50\n721/721 [==============================] - 0s 132us/step - loss: 198.7527 - val_loss: 169.1891\nEpoch 18/50\n721/721 [==============================] - 0s 151us/step - loss: 198.0429 - val_loss: 167.8665\nEpoch 19/50\n721/721 [==============================] - 1s 1ms/step - loss: 197.3657 - val_loss: 166.5552\nEpoch 20/50\n721/721 [==============================] - 1s 1ms/step - loss: 196.6813 - val_loss: 165.1629\nEpoch 21/50\n721/721 [==============================] - 1s 1ms/step - loss: 195.9806 - val_loss: 163.7458\nEpoch 22/50\n721/721 [==============================] - 1s 2ms/step - loss: 195.2779 - val_loss: 162.3454\nEpoch 23/50\n721/721 [==============================] - 1s 1ms/step - loss: 194.5698 - val_loss: 160.9325\nEpoch 24/50\n721/721 [==============================] - 0s 691us/step - loss: 193.8570 - val_loss: 159.5086\nEpoch 25/50\n721/721 [==============================] - 0s 167us/step - loss: 193.1387 - val_loss: 158.0868\nEpoch 26/50\n721/721 [==============================] - 0s 157us/step - loss: 192.4140 - val_loss: 156.6723\nEpoch 27/50\n721/721 [==============================] - 0s 139us/step - loss: 191.6941 - val_loss: 155.3034\nEpoch 28/50\n721/721 [==============================] - 0s 136us/step - loss: 190.9892 - val_loss: 153.9553\nEpoch 29/50\n721/721 [==============================] - 1s 724us/step - loss: 190.2800 - val_loss: 152.6103\nEpoch 30/50\n721/721 [==============================] - 3s 4ms/step - loss: 189.5837 - val_loss: 151.3085\nEpoch 31/50\n721/721 [==============================] - 1s 2ms/step - loss: 188.8754 - val_loss: 150.0288\nEpoch 32/50\n721/721 [==============================] - 2s 2ms/step - loss: 188.1716 - val_loss: 148.8010\nEpoch 33/50\n721/721 [==============================] - 1s 1ms/step - loss: 187.5212 - val_loss: 147.6506\nEpoch 34/50\n721/721 [==============================] - 1s 1ms/step - loss: 186.8975 - val_loss: 146.5645\nEpoch 35/50\n721/721 [==============================] - 1s 2ms/step - loss: 186.3088 - val_loss: 145.5290\nEpoch 36/50\n721/721 [==============================] - 1s 1ms/step - loss: 185.7596 - val_loss: 144.5813\nEpoch 37/50\n721/721 [==============================] - 0s 217us/step - loss: 185.2613 - val_loss: 143.6722\nEpoch 38/50\n721/721 [==============================] - 0s 142us/step - loss: 184.7763 - val_loss: 142.7617\nEpoch 39/50\n721/721 [==============================] - 0s 439us/step - loss: 184.2923 - val_loss: 141.8515\nEpoch 40/50\n721/721 [==============================] - 1s 2ms/step - loss: 183.8112 - val_loss: 140.9420\nEpoch 41/50\n721/721 [==============================] - 1s 1ms/step - loss: 183.3336 - val_loss: 140.0330\nEpoch 42/50\n721/721 [==============================] - 2s 3ms/step - loss: 182.8596 - val_loss: 139.1255\nEpoch 43/50\n721/721 [==============================] - 2s 3ms/step - loss: 182.3894 - val_loss: 138.2201\nEpoch 44/50\n721/721 [==============================] - 1s 1ms/step - loss: 181.9226 - val_loss: 137.3166\nEpoch 45/50\n721/721 [==============================] - 1s 2ms/step - loss: 181.4589 - val_loss: 136.4095\nEpoch 46/50\n721/721 [==============================] - 1s 1ms/step - loss: 180.9954 - val_loss: 135.5047\nEpoch 47/50\n721/721 [==============================] - 1s 1ms/step - loss: 180.5353 - val_loss: 134.6040\nEpoch 48/50\n721/721 [==============================] - 1s 1ms/step - loss: 180.0720 - val_loss: 133.6775\nEpoch 49/50\n721/721 [==============================] - 1s 725us/step - loss: 179.5924 - val_loss: 132.7341\nEpoch 50/50\n721/721 [==============================] - 1s 2ms/step - loss: 179.1095 - val_loss: 131.7963\n"
                },
                {
                    "data": {
                        "text/plain": "array([[45.229637],\n       [44.648308],\n       [62.780754],\n       ...,\n       [37.83171 ],\n       [23.747854],\n       [43.70677 ]], dtype=float32)"
                    },
                    "execution_count": 42,
                    "metadata": {},
                    "output_type": "execute_result"
                }
            ],
            "source": "# fit the model\nmodel.fit(X, y, validation_split=0.3, epochs=epochs, verbose=1, shuffle=False)\nprediction = model.predict(X)\nprediction"
        },
        {
            "cell_type": "markdown",
            "metadata": {
                "button": false,
                "new_sheet": false,
                "run_control": {
                    "read_only": false
                }
            },
            "source": "### A4. Evaluate - MSE"
        },
        {
            "cell_type": "code",
            "execution_count": null,
            "metadata": {},
            "outputs": [],
            "source": "# evaluate model\nmodel.fit(X, y, validation_split=0.3, epochs=epochs, verbose=1, shuffle=False)\nprediction = model.predict(X)\nprediction\n#print(\" %.2f MSE\" % (prediction.mse()))"
        },
        {
            "cell_type": "code",
            "execution_count": 47,
            "metadata": {},
            "outputs": [
                {
                    "name": "stdout",
                    "output_type": "stream",
                    "text": "Baseline: 36.78 mean (13.35 std)\n"
                }
            ],
            "source": "print(\"Baseline: %.2f mean (%.2f std deviation)\" % (prediction.mean(), prediction.std()))"
        },
        {
            "cell_type": "code",
            "execution_count": 46,
            "metadata": {},
            "outputs": [
                {
                    "ename": "AttributeError",
                    "evalue": "'numpy.ndarray' object has no attribute 'mse'",
                    "output_type": "error",
                    "traceback": [
                        "\u001b[0;31m---------------------------------------------------------------------------\u001b[0m",
                        "\u001b[0;31mAttributeError\u001b[0m                            Traceback (most recent call last)",
                        "\u001b[0;32m<ipython-input-46-1a9bae69e795>\u001b[0m in \u001b[0;36m<module>\u001b[0;34m\u001b[0m\n\u001b[1;32m      1\u001b[0m \u001b[0malist\u001b[0m \u001b[0;34m=\u001b[0m \u001b[0;34m[\u001b[0m\u001b[0;34m]\u001b[0m\u001b[0;34m\u001b[0m\u001b[0;34m\u001b[0m\u001b[0m\n\u001b[1;32m      2\u001b[0m \u001b[0;32mfor\u001b[0m \u001b[0mx\u001b[0m \u001b[0;32min\u001b[0m \u001b[0mrange\u001b[0m\u001b[0;34m(\u001b[0m\u001b[0;36m50\u001b[0m\u001b[0;34m)\u001b[0m\u001b[0;34m:\u001b[0m\u001b[0;34m\u001b[0m\u001b[0;34m\u001b[0m\u001b[0m\n\u001b[0;32m----> 3\u001b[0;31m     \u001b[0mmse\u001b[0m \u001b[0;34m=\u001b[0m \u001b[0mprediction\u001b[0m\u001b[0;34m.\u001b[0m\u001b[0mmse\u001b[0m\u001b[0;34m\u001b[0m\u001b[0;34m\u001b[0m\u001b[0m\n\u001b[0m\u001b[1;32m      4\u001b[0m     \u001b[0malist\u001b[0m\u001b[0;34m.\u001b[0m\u001b[0mappend\u001b[0m\u001b[0;34m(\u001b[0m\u001b[0mmse\u001b[0m\u001b[0;34m)\u001b[0m\u001b[0;34m\u001b[0m\u001b[0;34m\u001b[0m\u001b[0m\n\u001b[1;32m      5\u001b[0m \u001b[0;32mreturn\u001b[0m \u001b[0mmse\u001b[0m\u001b[0;34m\u001b[0m\u001b[0;34m\u001b[0m\u001b[0m\n",
                        "\u001b[0;31mAttributeError\u001b[0m: 'numpy.ndarray' object has no attribute 'mse'"
                    ]
                }
            ],
            "source": "alist = []\nfor x in range(50):\n    mse = prediction.mse\n    alist.append(mse)\nreturn mse\n    "
        },
        {
            "cell_type": "markdown",
            "metadata": {
                "button": false,
                "new_sheet": false,
                "run_control": {
                    "read_only": false
                }
            },
            "source": "### B. Normalized Model the data by substracting the mean and dividing by the standard deviation."
        },
        {
            "cell_type": "code",
            "execution_count": 23,
            "metadata": {
                "button": false,
                "new_sheet": false,
                "run_control": {
                    "read_only": false
                }
            },
            "outputs": [
                {
                    "data": {
                        "text/html": "<div>\n<style scoped>\n    .dataframe tbody tr th:only-of-type {\n        vertical-align: middle;\n    }\n\n    .dataframe tbody tr th {\n        vertical-align: top;\n    }\n\n    .dataframe thead th {\n        text-align: right;\n    }\n</style>\n<table border=\"1\" class=\"dataframe\">\n  <thead>\n    <tr style=\"text-align: right;\">\n      <th></th>\n      <th>Cement</th>\n      <th>Blast Furnace Slag</th>\n      <th>Fly Ash</th>\n      <th>Water</th>\n      <th>Superplasticizer</th>\n      <th>Coarse Aggregate</th>\n      <th>Fine Aggregate</th>\n      <th>Age</th>\n    </tr>\n  </thead>\n  <tbody>\n    <tr>\n      <th>0</th>\n      <td>2.476712</td>\n      <td>-0.856472</td>\n      <td>-0.846733</td>\n      <td>-0.916319</td>\n      <td>-0.620147</td>\n      <td>0.862735</td>\n      <td>-1.217079</td>\n      <td>-0.279597</td>\n    </tr>\n    <tr>\n      <th>1</th>\n      <td>2.476712</td>\n      <td>-0.856472</td>\n      <td>-0.846733</td>\n      <td>-0.916319</td>\n      <td>-0.620147</td>\n      <td>1.055651</td>\n      <td>-1.217079</td>\n      <td>-0.279597</td>\n    </tr>\n    <tr>\n      <th>2</th>\n      <td>0.491187</td>\n      <td>0.795140</td>\n      <td>-0.846733</td>\n      <td>2.174405</td>\n      <td>-1.038638</td>\n      <td>-0.526262</td>\n      <td>-2.239829</td>\n      <td>3.551340</td>\n    </tr>\n    <tr>\n      <th>3</th>\n      <td>0.491187</td>\n      <td>0.795140</td>\n      <td>-0.846733</td>\n      <td>2.174405</td>\n      <td>-1.038638</td>\n      <td>-0.526262</td>\n      <td>-2.239829</td>\n      <td>5.055221</td>\n    </tr>\n    <tr>\n      <th>4</th>\n      <td>-0.790075</td>\n      <td>0.678079</td>\n      <td>-0.846733</td>\n      <td>0.488555</td>\n      <td>-1.038638</td>\n      <td>0.070492</td>\n      <td>0.647569</td>\n      <td>4.976069</td>\n    </tr>\n  </tbody>\n</table>\n</div>",
                        "text/plain": "     Cement  Blast Furnace Slag   Fly Ash     Water  Superplasticizer  \\\n0  2.476712           -0.856472 -0.846733 -0.916319         -0.620147   \n1  2.476712           -0.856472 -0.846733 -0.916319         -0.620147   \n2  0.491187            0.795140 -0.846733  2.174405         -1.038638   \n3  0.491187            0.795140 -0.846733  2.174405         -1.038638   \n4 -0.790075            0.678079 -0.846733  0.488555         -1.038638   \n\n   Coarse Aggregate  Fine Aggregate       Age  \n0          0.862735       -1.217079 -0.279597  \n1          1.055651       -1.217079 -0.279597  \n2         -0.526262       -2.239829  3.551340  \n3         -0.526262       -2.239829  5.055221  \n4          0.070492        0.647569  4.976069  "
                    },
                    "execution_count": 23,
                    "metadata": {},
                    "output_type": "execute_result"
                }
            ],
            "source": "predictors_norm = (predictors - predictors.mean()) / predictors.std()\npredictors_norm.head()"
        },
        {
            "cell_type": "code",
            "execution_count": 28,
            "metadata": {},
            "outputs": [
                {
                    "data": {
                        "text/plain": "0    2.644123\n1    1.560663\n2    0.266498\n3    0.313188\n4    0.507732\nName: Strength, dtype: float64"
                    },
                    "execution_count": 28,
                    "metadata": {},
                    "output_type": "execute_result"
                }
            ],
            "source": "#NORMALIZE TARGET and PREDICTORS\ntarget_norm = (target - target.mean()) / target.std()\npredictors_norm = (predictors - predictors.mean()) / predictors.std()\n#predictors_norm.head() #check\ntarget_norm.head() #check"
        },
        {
            "cell_type": "code",
            "execution_count": 26,
            "metadata": {},
            "outputs": [
                {
                    "ename": "NameError",
                    "evalue": "name 'loss' is not defined",
                    "output_type": "error",
                    "traceback": [
                        "\u001b[0;31m---------------------------------------------------------------------------\u001b[0m",
                        "\u001b[0;31mNameError\u001b[0m                                 Traceback (most recent call last)",
                        "\u001b[0;32m<ipython-input-26-11804fc6b0cf>\u001b[0m in \u001b[0;36m<module>\u001b[0;34m\u001b[0m\n\u001b[1;32m      1\u001b[0m \u001b[0;31m##Bonus: To plot the training loss curve:\u001b[0m\u001b[0;34m\u001b[0m\u001b[0;34m\u001b[0m\u001b[0;34m\u001b[0m\u001b[0m\n\u001b[1;32m      2\u001b[0m \u001b[0;34m\u001b[0m\u001b[0m\n\u001b[0;32m----> 3\u001b[0;31m \u001b[0mepochs\u001b[0m \u001b[0;34m=\u001b[0m \u001b[0mrange\u001b[0m\u001b[0;34m(\u001b[0m\u001b[0;36m1\u001b[0m\u001b[0;34m,\u001b[0m \u001b[0mlen\u001b[0m\u001b[0;34m(\u001b[0m\u001b[0mloss\u001b[0m\u001b[0;34m)\u001b[0m\u001b[0;34m+\u001b[0m\u001b[0;36m1\u001b[0m\u001b[0;34m)\u001b[0m\u001b[0;34m\u001b[0m\u001b[0;34m\u001b[0m\u001b[0m\n\u001b[0m\u001b[1;32m      4\u001b[0m \u001b[0mplt\u001b[0m\u001b[0;34m.\u001b[0m\u001b[0mplot\u001b[0m\u001b[0;34m(\u001b[0m\u001b[0mepochs\u001b[0m\u001b[0;34m,\u001b[0m \u001b[0mloss\u001b[0m\u001b[0;34m,\u001b[0m \u001b[0;34m'ro'\u001b[0m\u001b[0;34m,\u001b[0m \u001b[0mlabel\u001b[0m\u001b[0;34m=\u001b[0m\u001b[0;34m'Training loss'\u001b[0m\u001b[0;34m)\u001b[0m\u001b[0;34m\u001b[0m\u001b[0;34m\u001b[0m\u001b[0m\n\u001b[1;32m      5\u001b[0m \u001b[0mplt\u001b[0m\u001b[0;34m.\u001b[0m\u001b[0mlegend\u001b[0m\u001b[0;34m(\u001b[0m\u001b[0;34m)\u001b[0m\u001b[0;34m\u001b[0m\u001b[0;34m\u001b[0m\u001b[0m\n",
                        "\u001b[0;31mNameError\u001b[0m: name 'loss' is not defined"
                    ]
                }
            ],
            "source": "##Bonus: To plot the training loss curve:\n\nepochs = range(1, len(loss)+1)\nplt.plot(epochs, loss, 'ro', label='Training loss')\nplt.legend()\nplt.show()"
        },
        {
            "cell_type": "markdown",
            "metadata": {
                "button": false,
                "new_sheet": false,
                "run_control": {
                    "read_only": false
                }
            },
            "source": "## test loop"
        },
        {
            "cell_type": "code",
            "execution_count": 34,
            "metadata": {},
            "outputs": [
                {
                    "ename": "NameError",
                    "evalue": "name 'convolutional_model' is not defined",
                    "output_type": "error",
                    "traceback": [
                        "\u001b[0;31m---------------------------------------------------------------------------\u001b[0m",
                        "\u001b[0;31mNameError\u001b[0m                                 Traceback (most recent call last)",
                        "\u001b[0;32m<ipython-input-34-a054531eb6ca>\u001b[0m in \u001b[0;36m<module>\u001b[0;34m\u001b[0m\n\u001b[1;32m      1\u001b[0m \u001b[0;31m# build the model\u001b[0m\u001b[0;34m\u001b[0m\u001b[0;34m\u001b[0m\u001b[0;34m\u001b[0m\u001b[0m\n\u001b[0;32m----> 2\u001b[0;31m \u001b[0mmodel\u001b[0m \u001b[0;34m=\u001b[0m \u001b[0mconvolutional_model\u001b[0m\u001b[0;34m(\u001b[0m\u001b[0;34m)\u001b[0m\u001b[0;34m\u001b[0m\u001b[0;34m\u001b[0m\u001b[0m\n\u001b[0m\u001b[1;32m      3\u001b[0m \u001b[0mprint\u001b[0m\u001b[0;34m(\u001b[0m\u001b[0;34m'step 1 done'\u001b[0m\u001b[0;34m)\u001b[0m\u001b[0;34m\u001b[0m\u001b[0;34m\u001b[0m\u001b[0m\n\u001b[1;32m      4\u001b[0m \u001b[0;31m# fit the model\u001b[0m\u001b[0;34m\u001b[0m\u001b[0;34m\u001b[0m\u001b[0;34m\u001b[0m\u001b[0m\n\u001b[1;32m      5\u001b[0m \u001b[0mmodel\u001b[0m\u001b[0;34m.\u001b[0m\u001b[0mfit\u001b[0m\u001b[0;34m(\u001b[0m\u001b[0mX_train\u001b[0m\u001b[0;34m,\u001b[0m \u001b[0my_train\u001b[0m\u001b[0;34m,\u001b[0m \u001b[0mvalidation_data\u001b[0m\u001b[0;34m=\u001b[0m\u001b[0;34m(\u001b[0m\u001b[0mX_test\u001b[0m\u001b[0;34m,\u001b[0m \u001b[0my_test\u001b[0m\u001b[0;34m)\u001b[0m\u001b[0;34m,\u001b[0m \u001b[0mepochs\u001b[0m\u001b[0;34m=\u001b[0m\u001b[0;36m10\u001b[0m\u001b[0;34m,\u001b[0m \u001b[0mbatch_size\u001b[0m\u001b[0;34m=\u001b[0m\u001b[0;36m200\u001b[0m\u001b[0;34m,\u001b[0m \u001b[0mverbose\u001b[0m\u001b[0;34m=\u001b[0m\u001b[0;36m2\u001b[0m\u001b[0;34m)\u001b[0m\u001b[0;34m\u001b[0m\u001b[0;34m\u001b[0m\u001b[0m\n",
                        "\u001b[0;31mNameError\u001b[0m: name 'convolutional_model' is not defined"
                    ]
                }
            ],
            "source": "# build the model\nmodel = regression_model(nodes)\nprint('step 1 done')\n# fit the model\nmodel.fit(X_train, y_train, validation_data=(X_test, y_test), epochs=epochs, batch_size=b, verbose=2)\nprint('step2done')\n# evaluate the model\nscores = model.evaluate(X_test, y_test, verbose=0)\nprint(\"Accuracy: {} \\n Error: {}\".format(scores[1], 100-scores[1]*100))"
        },
        {
            "cell_type": "code",
            "execution_count": null,
            "metadata": {},
            "outputs": [],
            "source": ""
        }
    ],
    "metadata": {
        "kernelspec": {
            "display_name": "Python 3.6",
            "language": "python",
            "name": "python3"
        },
        "language_info": {
            "codemirror_mode": {
                "name": "ipython",
                "version": 3
            },
            "file_extension": ".py",
            "mimetype": "text/x-python",
            "name": "python",
            "nbconvert_exporter": "python",
            "pygments_lexer": "ipython3",
            "version": "3.6.9"
        }
    },
    "nbformat": 4,
    "nbformat_minor": 4
}