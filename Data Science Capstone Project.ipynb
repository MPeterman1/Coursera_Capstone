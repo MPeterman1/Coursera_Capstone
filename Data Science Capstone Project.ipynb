{
    "cells": [
        {
            "cell_type": "markdown",
            "metadata": {
                "collapsed": true
            },
            "source": "## Analysis of Restaurant Trends in South Bend, IN and Tallahassee, FL\n### --Data Science Capstone Project - Week/Part 1 Lab Submission--\nby Mary Ann Peterman\n"
        },
        {
            "cell_type": "markdown",
            "metadata": {},
            "source": "#### INTRODUCTION \nThis data analysis seeks to determine if college town restaurants share popularity in dining types. Are there trends?\nWhat types of restaurants are closest to campus? Answers are essential for planning a new restaurant or food truck enterprise.\nRestaurants in all towns across America represent a wide variety of cuisines and price points. The restuarant industry is challeneging alone, but choosing the right type of restuarant, pricing and location are critical factors in a successful endeavor. Dining and fun eats are a draw in particular to college towns in addition to other activies and venues. Populations in cities containing a dominate student population face a unique challenge to meet new dining trends. \n\nSome examples of new diet and dining trends are as follows: \nDiets that move away from typical American diets for health with vegan menu options  and new restaurants responding to the surge in WFPBD (whole food plant based diet). Also, already more established new trends like microbrewery restaurants, juice bars, international and fusion cuisine, small plate and tapas resetaurants. Both locations will have more typical American fare like fast food, pizzarias and gourmet burger restaurants.\n\nSouth Bend, Indiana and Tallahassee, Florida are two comparable mid sized college towns. Preliminary examinations show that metro populations of both are aproximately 320,000. South Bend was chosen for its recent notarity of former Mayor Pete Buttigieg, 2020 presidential candidate and with Notre Dame. Tallahassee, FL is home to Florida State University. Both metro areas include more than 3 other traditional colleges each. Both cities have very similar outdoor and cultural venues and cost of living.\n"
        },
        {
            "cell_type": "markdown",
            "metadata": {},
            "source": "#### DATA\nObjective is to compare the findings of popularity (ratings), quantity and type of two equal sized but younger population of college towns. \nFoursquare data is obtain from both United State locations. One is Tallahassee, FL (Latitude 30.455000, Longitude -84.253334). The other is South Bend, Indiana (Latitude 41.676388, \nLongitude -86.250275).\nRestaurants that are not rated will be exluded from the subject data.\nData collected from each venue will include its category and or subcategory, price range, location and ratings.\nData from both locations will be ordered by ratings, category and location.\nData vizualation of locations of the top ten restaurants at each location will be presented as per findings.\n"
        },
        {
            "cell_type": "code",
            "execution_count": 1,
            "metadata": {},
            "outputs": [
                {
                    "name": "stdout",
                    "output_type": "stream",
                    "text": "Hello Capstone Project Course!\n"
                }
            ],
            "source": "import pandas as pd\nimport numpy as np\n\nprint (\"Hello Capstone Project Course!\")"
        },
        {
            "cell_type": "code",
            "execution_count": null,
            "metadata": {},
            "outputs": [],
            "source": ""
        }
    ],
    "metadata": {
        "kernelspec": {
            "display_name": "Python 3.6",
            "language": "python",
            "name": "python3"
        },
        "language_info": {
            "codemirror_mode": {
                "name": "ipython",
                "version": 3
            },
            "file_extension": ".py",
            "mimetype": "text/x-python",
            "name": "python",
            "nbconvert_exporter": "python",
            "pygments_lexer": "ipython3",
            "version": "3.6.9"
        }
    },
    "nbformat": 4,
    "nbformat_minor": 1
}